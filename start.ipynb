{
 "cells": [
  {
   "cell_type": "code",
   "execution_count": null,
   "metadata": {},
   "outputs": [],
   "source": [
    "import turtle\n",
    "\n",
    "def createGrid(gridSize):\n",
    "    from copy import deepcopy\n",
    "    grid=[]\n",
    "    row=[]\n",
    "    for i in range(gridSize):\n",
    "        row+=['']\n",
    "    for i in range(gridSize):\n",
    "        grid.append(deepcopy(row))\n",
    "    return grid\n",
    "\n",
    "def printGrid(grid):\n",
    "    for i in grid:\n",
    "        print(i)"
   ]
  },
  {
   "cell_type": "code",
   "execution_count": null,
   "metadata": {},
   "outputs": [],
   "source": [
    "# constants\n",
    "gridSize=10\n",
    "# mapSize is the furthest x value for turtle, used to draw my map\n",
    "mapSize=500/2\n",
    "# the map is split into gridSize number of invisible boxes, each box is 1 boxSize long\n",
    "boxSize=mapSize*2/gridSize\n",
    "\n",
    "# map related\n",
    "obsticles=[(5,5),(4,5)]\n",
    "startPos= (0,0)\n",
    "finalPos=(9,9)\n",
    "\n",
    "# variables \n",
    "x_turtle=startPos[0]\n",
    "y_turtle=startPos[1]\n",
    "Michelangelo=turtle.Turtle()\n",
    "grid=createGrid(gridSize)\n",
    "\n",
    "\n"
   ]
  },
  {
   "cell_type": "code",
   "execution_count": null,
   "metadata": {},
   "outputs": [],
   "source": [
    "printGrid(grid)"
   ]
  },
  {
   "cell_type": "markdown",
   "metadata": {},
   "source": [
    "Hillman's part"
   ]
  },
  {
   "cell_type": "code",
   "execution_count": null,
   "metadata": {},
   "outputs": [],
   "source": [
    "# Grid related\n",
    "def printGrid(grid):\n",
    "    print('[')\n",
    "    for i in grid:\n",
    "        print(i,',')\n",
    "    print(']')\n",
    "\n",
    "# please rename drawGrid\n",
    "def drawGrid(turt):\n",
    "    turt.setpos(mapSize,mapSize)\n",
    "    turt.pendown()\n",
    "    turt.width(5)\n",
    "    for i in range(4):\n",
    "        turt.right(90)\n",
    "        turt.forward(2*mapSize)\n",
    "    turt.penup()\n",
    "\n",
    "def goToCoord(turt,x,y):\n",
    "    x_value=-mapSize+x*boxSize+boxSize/2\n",
    "    y_value=mapSize-y*boxSize-boxSize/2\n",
    "    turt.goto(x_value,y_value)\n",
    "    return x_value,y_value\n",
    "\n",
    "# map related\n",
    "def putObsticles(turt,grid):\n",
    "    for x,y in obsticles:\n",
    "        grid[x][y]='obs'\n",
    "        goToCoord(turt,x,y)\n",
    "        drawObsticle(turt)\n",
    "\n",
    "def drawObsticle(turt):\n",
    "    turt.pendown()\n",
    "    turt.write('obsitcle')\n",
    "    turt.penup()\n",
    "    \n",
    "\n",
    "def putGoal(turt,grid):\n",
    "    x,y=finalPos\n",
    "    grid[x][y]='goal'\n",
    "    goToCoord(turt,x,y)\n",
    "    drawGoal(turt)\n",
    "\n",
    "def drawGoal(turt):\n",
    "    turt.pendown()\n",
    "    turt.write('goal')\n",
    "    turt.penup()\n",
    "    \n",
    "def goToStart(turt,grid):\n",
    "    grid[startPos[0]][startPos[1]]='T'\n",
    "    goToCoord(turt,startPos[0],startPos[1])\n",
    "    "
   ]
  },
  {
   "cell_type": "markdown",
   "metadata": {},
   "source": [
    "Aisiri's part\n",
    "\n",
    "end goal: \n",
    "\n",
    "accept input\n",
    "\n",
    "based on input move foward, turn left, or turn right\n",
    "    if you turn, remember to ask for input again\n",
    "\n",
    "once you move, update x_turtle and y_turtle\n",
    "\n",
    "run collisioncheck once done.\n",
    "\n",
    "collisioncheck will run moveFunction when it is done, so dont worry about looping"
   ]
  },
  {
   "cell_type": "code",
   "execution_count": null,
   "metadata": {},
   "outputs": [],
   "source": [
    "def moveFunction(x_turtle,y_turtle,turt,grid):\n",
    "    pass\n",
    "\n",
    "    collisionCheck(x_turtle,y_turtle,turt,grid)"
   ]
  },
  {
   "cell_type": "markdown",
   "metadata": {},
   "source": [
    "Hannah's part\n",
    "\n",
    "Useful constants for checking which have already been declared above:\n",
    "\n",
    "gridSize=10\n",
    "\n",
    "obsticles=[(5,5),(4,5),...]\n",
    "\n",
    "finalPos=(9,9)\n",
    "\n",
    "Scoreboard: take the list of tuples and print it nicely (nice up to your interpretation)\n",
    "\n",
    "eg: [(Bob,15),(Jake,13),(Ben,11)]"
   ]
  },
  {
   "cell_type": "code",
   "execution_count": null,
   "metadata": {},
   "outputs": [],
   "source": [
    "def collisionCheck(x_turtle,y_turtle,turt,grid):\n",
    "    checkForObsticle(x_turtle,y_turtle,turt)\n",
    "    checkForOutOfBound(x_turtle,y_turtle,turt)\n",
    "    checkForGoal(x_turtle,y_turtle,turt)\n",
    "\n",
    "    # if there is nothing in the next space, use updateGrid(x_turtle,y_turtle,turt,grid)\n",
    "\n",
    "def checkForObsticle(x_turtle,y_turtle,turt):\n",
    "    pass\n",
    "def checkForOutOfBound(x_turtle,y_turtle,turt):\n",
    "    pass\n",
    "def checkForGoal(x_turtle,y_turtle,turt):\n",
    "    pass\n",
    "    # if true, use scoreboard()\n",
    "\n",
    "\n",
    "# -------------------------------------------------------------\n",
    "def scoreboard(scores):\n",
    "    pass\n",
    "    \n",
    "    "
   ]
  },
  {
   "cell_type": "markdown",
   "metadata": {},
   "source": [
    "Aqif's part \n",
    "\n",
    "your starting ui has to have a timer\n",
    "\n",
    "then finish, take the time, calculate into a score, put it into a text file, push new scoreboard into text file"
   ]
  },
  {
   "cell_type": "code",
   "execution_count": null,
   "metadata": {},
   "outputs": [],
   "source": [
    "def startingUi():\n",
    "    startingMessages()    \n",
    "\n",
    "def startingMessages():\n",
    "    print('Welcome to')\n",
    "    print('~~~~MAZE~~~~')\n",
    "    print('ensure you can see prints and turtle at the same time')\n",
    "\n",
    "\n",
    "def updateGrid(x_turtle,y_turtle,turt,grid):\n",
    "    pass\n",
    "    moveFunction(x_turtle,y_turtle,turt,grid)\n",
    "\n",
    "def gameOver():\n",
    "    pass\n",
    "\n",
    "def calculateScore():\n",
    "    pass\n",
    "\n",
    "def retrieveScores():\n",
    "    pass\n",
    "    scoreboard()\n",
    "\n",
    "def endOfScreenMessage():\n",
    "    pass"
   ]
  },
  {
   "cell_type": "code",
   "execution_count": null,
   "metadata": {},
   "outputs": [],
   "source": [
    "\n",
    "def loadMap(turt,grid):\n",
    "    \n",
    "    turt.reset()\n",
    "    turt.hideturtle()\n",
    "    turt.speed(0)\n",
    "    turt.penup()\n",
    "    \n",
    "    drawGrid(turt)\n",
    "    putObsticles(turt,grid)\n",
    "    putGoal(turt,grid)\n",
    "    goToStart(turt,grid)\n",
    "    \n",
    "    turt.speed(1)\n",
    "    turt.showturtle()\n",
    "\n",
    "\n",
    "def initGame():\n",
    "    startingUi()\n",
    "    loadMap(Michelangelo,grid)\n",
    "    moveFunction(x_turtle,y_turtle,Michelangelo,grid)\n",
    "    \n",
    "\n"
   ]
  },
  {
   "cell_type": "code",
   "execution_count": null,
   "metadata": {},
   "outputs": [],
   "source": [
    "initGame()"
   ]
  },
  {
   "cell_type": "code",
   "execution_count": null,
   "metadata": {},
   "outputs": [],
   "source": [
    "printGrid(grid)"
   ]
  }
 ],
 "metadata": {
  "interpreter": {
   "hash": "63fd5069d213b44bf678585dea6b12cceca9941eaf7f819626cde1f2670de90d"
  },
  "kernelspec": {
   "display_name": "Python 3.9.6 64-bit",
   "language": "python",
   "name": "python3"
  },
  "language_info": {
   "codemirror_mode": {
    "name": "ipython",
    "version": 3
   },
   "file_extension": ".py",
   "mimetype": "text/x-python",
   "name": "python",
   "nbconvert_exporter": "python",
   "pygments_lexer": "ipython3",
   "version": "3.9.6"
  },
  "orig_nbformat": 4
 },
 "nbformat": 4,
 "nbformat_minor": 2
}
