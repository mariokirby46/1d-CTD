{
 "cells": [
  {
   "cell_type": "code",
   "execution_count": 1,
   "metadata": {},
   "outputs": [],
   "source": [
    "import turtle\n",
    "\n",
    "def createGrid(gridSize):\n",
    "    from copy import deepcopy\n",
    "    grid=[]\n",
    "    row=[]\n",
    "    for i in range(gridSize):\n",
    "        row+=['']\n",
    "    for i in range(gridSize):\n",
    "        grid.append(deepcopy(row))\n",
    "    return grid"
   ]
  },
  {
   "cell_type": "code",
   "execution_count": 2,
   "metadata": {},
   "outputs": [],
   "source": [
    "# constants \n",
    "x_turtle=0\n",
    "y_turtle=0\n",
    "gridSize=10\n",
    "maxCorner=250\n",
    "boxSize=maxCorner*2/gridSize\n",
    "Michelangelo=turtle.Turtle()\n",
    "grid=createGrid(gridSize)\n",
    "\n",
    "# map related\n",
    "obsticles=[(5,5)]\n",
    "startPos=0,0\n",
    "finalPos=9,9\n"
   ]
  },
  {
   "cell_type": "code",
   "execution_count": 8,
   "metadata": {},
   "outputs": [
    {
     "ename": "SyntaxError",
     "evalue": "invalid syntax (Temp/ipykernel_13688/4066791568.py, line 46)",
     "output_type": "error",
     "traceback": [
      "\u001b[1;36m  File \u001b[1;32m\"C:\\Users\\HILLMA~1\\AppData\\Local\\Temp/ipykernel_13688/4066791568.py\"\u001b[1;36m, line \u001b[1;32m46\u001b[0m\n\u001b[1;33m    def goToStart(turt,grid,maxCorner,boxSize)\u001b[0m\n\u001b[1;37m                                              ^\u001b[0m\n\u001b[1;31mSyntaxError\u001b[0m\u001b[1;31m:\u001b[0m invalid syntax\n"
     ]
    }
   ],
   "source": [
    "# Grid related\n",
    "def printGrid(grid):\n",
    "    for i in grid:\n",
    "        print(i)\n",
    "\n",
    "def drawGrid(turt,corner):\n",
    "    turt.setpos(corner,corner)\n",
    "    turt.pendown()\n",
    "    turt.width(5)\n",
    "    for i in range(4):\n",
    "        turt.right(90)\n",
    "        turt.forward(2*corner)\n",
    "    turt.penup()\n",
    "\n",
    "def goToCoord(turt,x,y):\n",
    "    x_value=-maxCorner+x*boxSize+boxSize/2\n",
    "    y_value=maxCorner-y*boxSize-boxSize/2\n",
    "    turt.goto(x_value,y_value)\n",
    "    return x_value,y_value\n",
    "\n",
    "# map related\n",
    "def putObsticles(obsticles,turt,grid,maxCorner,boxSize):\n",
    "    for x,y in obsticles:\n",
    "        grid[x][y]='obs'\n",
    "    \n",
    "        goToCoord(turt,x,y)\n",
    "        drawObsticle(turt,maxCorner, boxSize)\n",
    "\n",
    "def drawObsticle(turt,maxCorner,boxSize):\n",
    "    turt.pendown()\n",
    "    turt.write('obsitcle')\n",
    "    turt.penup()\n",
    "    \n",
    "\n",
    "def putGoal(finalPos,turt,grid,maxCorner,boxSize):\n",
    "    x,y=finalPos\n",
    "    grid[x][y]='goal'\n",
    "    goToCoord(turt,x,y)\n",
    "    drawGoal(turt,maxCorner,boxSize)\n",
    "\n",
    "def drawGoal(turt, maxCorner, boxSize):\n",
    "    turt.pendown()\n",
    "    turt.write('goal')\n",
    "    turt.penup()\n",
    "    \n",
    "def goToStart(turt,grid,maxCorner,boxSize):\n",
    "    \n",
    "    pass"
   ]
  },
  {
   "cell_type": "code",
   "execution_count": 4,
   "metadata": {},
   "outputs": [
    {
     "name": "stdout",
     "output_type": "stream",
     "text": [
      "Welcome to\n",
      "~~~~ADDITION MAZE~~~~\n",
      "ensure you can see prints and turtle at the same time\n"
     ]
    }
   ],
   "source": [
    "def startingMessages():\n",
    "    print('Welcome to')\n",
    "    print('~~~~ADDITION MAZE~~~~')\n",
    "    print('ensure you can see prints and turtle at the same time')\n",
    "\n",
    "def loadMap(turt,grid,maxCorner,boxSize):\n",
    "    \n",
    "    # fakeFinal=10,3\n",
    "    # \n",
    "\n",
    "    turt.reset()\n",
    "    turt.hideturtle()\n",
    "    turt.speed(0)\n",
    "    turt.penup()\n",
    "    \n",
    "    drawGrid(turt,maxCorner)\n",
    "    putObsticles(obsticles,turt,grid,maxCorner,boxSize)\n",
    "    putGoal(finalPos,turt,grid,maxCorner,boxSize)\n",
    "    # goToStart()\n",
    "    goToCoord(turt,startPos[0],startPos[1])\n",
    "    turt.speed(1)\n",
    "    turt.showturtle()\n",
    "\n",
    "\n",
    "def initGame():\n",
    "    startingMessages()\n",
    "    loadMap(Michelangelo,grid,maxCorner,boxSize)\n",
    "    \n",
    "\n"
   ]
  },
  {
   "cell_type": "code",
   "execution_count": 5,
   "metadata": {},
   "outputs": [
    {
     "name": "stdout",
     "output_type": "stream",
     "text": [
      "['', '', '', '', '', '', '', '', '', '']\n",
      "['', '', '', '', '', '', '', '', '', '']\n",
      "['', '', '', '', '', '', '', '', '', '']\n",
      "['', '', '', '', '', '', '', '', '', '']\n",
      "['', '', '', '', '', '', '', '', '', '']\n",
      "['', '', '', '', '', 'obs', '', '', '', '']\n",
      "['', '', '', '', '', '', '', '', '', '']\n",
      "['', '', '', '', '', '', '', '', '', '']\n",
      "['', '', '', '', '', '', '', '', '', '']\n",
      "['', '', '', '', '', '', '', '', '', 'goal']\n"
     ]
    }
   ],
   "source": [
    "printGrid(grid)"
   ]
  },
  {
   "cell_type": "code",
   "execution_count": 6,
   "metadata": {},
   "outputs": [
    {
     "data": {
      "text/plain": [
       "['', '', '', '', '', '', '', '', '', 'Goal']"
      ]
     },
     "execution_count": 6,
     "metadata": {},
     "output_type": "execute_result"
    }
   ],
   "source": [
    "['T', '', '', '', '', '', '', '', '', '']\n",
    "['', '', '', '', '', '', '', '', '', '']\n",
    "['', '', '', '', '', '', '', '', '', '']\n",
    "['', '', '', '', '', '', '', '', '', '']\n",
    "['', '', '', '', '', '', '', '', '', '']\n",
    "['', '', '', '', '', 'obs', '', '', '', '']\n",
    "['', '', '', '', '', '', '', '', '', '']\n",
    "['', '', '', '', '', '', '', '', '', '']\n",
    "['', '', '', '', '', '', '', '', '', '']\n",
    "['', '', '', '', '', '', '', '', '', 'Goal']"
   ]
  }
 ],
 "metadata": {
  "interpreter": {
   "hash": "63fd5069d213b44bf678585dea6b12cceca9941eaf7f819626cde1f2670de90d"
  },
  "kernelspec": {
   "display_name": "Python 3.9.6 64-bit",
   "language": "python",
   "name": "python3"
  },
  "language_info": {
   "codemirror_mode": {
    "name": "ipython",
    "version": 3
   },
   "file_extension": ".py",
   "mimetype": "text/x-python",
   "name": "python",
   "nbconvert_exporter": "python",
   "pygments_lexer": "ipython3",
   "version": "3.9.6"
  },
  "orig_nbformat": 4
 },
 "nbformat": 4,
 "nbformat_minor": 2
}
