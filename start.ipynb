{
 "cells": [
  {
   "cell_type": "code",
   "execution_count": 1,
   "metadata": {},
   "outputs": [],
   "source": [
    "import turtle\n",
    "\n",
    "def createGrid(gridSize):\n",
    "    from copy import deepcopy\n",
    "    grid=[]\n",
    "    row=[]\n",
    "    for i in range(gridSize):\n",
    "        row+=['']\n",
    "    for i in range(gridSize):\n",
    "        grid.append(deepcopy(row))\n",
    "    return grid\n",
    "\n",
    "def printGrid(grid):\n",
    "    for i in grid:\n",
    "        print(i)"
   ]
  },
  {
   "cell_type": "code",
   "execution_count": 2,
   "metadata": {},
   "outputs": [],
   "source": [
    "# constants \n",
    "x_turtle=0\n",
    "y_turtle=0\n",
    "gridSize=10\n",
    "# maxCorner is the furthest x value for turtle, used to draw my map\n",
    "maxCorner=250\n",
    "# the map is split into 10 invisible boxes, each box is 1 boxSize units long\n",
    "boxSize=maxCorner*2/gridSize\n",
    "Michelangelo=turtle.Turtle()\n",
    "grid=createGrid(gridSize)\n",
    "\n",
    "# map related\n",
    "obsticles=[(5,5)]\n",
    "startPos= (x_turtle,y_turtle)\n",
    "finalPos=9,9\n"
   ]
  },
  {
   "cell_type": "code",
   "execution_count": 3,
   "metadata": {},
   "outputs": [
    {
     "name": "stdout",
     "output_type": "stream",
     "text": [
      "['', '', '', '', '', '', '', '', '', '']\n",
      "['', '', '', '', '', '', '', '', '', '']\n",
      "['', '', '', '', '', '', '', '', '', '']\n",
      "['', '', '', '', '', '', '', '', '', '']\n",
      "['', '', '', '', '', '', '', '', '', '']\n",
      "['', '', '', '', '', '', '', '', '', '']\n",
      "['', '', '', '', '', '', '', '', '', '']\n",
      "['', '', '', '', '', '', '', '', '', '']\n",
      "['', '', '', '', '', '', '', '', '', '']\n",
      "['', '', '', '', '', '', '', '', '', '']\n"
     ]
    }
   ],
   "source": [
    "printGrid(grid)"
   ]
  },
  {
   "cell_type": "markdown",
   "metadata": {},
   "source": [
    "Hillman's part"
   ]
  },
  {
   "cell_type": "code",
   "execution_count": 4,
   "metadata": {},
   "outputs": [],
   "source": [
    "# Grid related\n",
    "def printGrid(grid):\n",
    "    print('[')\n",
    "    for i in grid:\n",
    "        print(i,',')\n",
    "    print(']')\n",
    "\n",
    "# please rename drawGrid\n",
    "def drawGrid(turt,corner):\n",
    "    turt.setpos(corner,corner)\n",
    "    turt.pendown()\n",
    "    turt.width(5)\n",
    "    for i in range(4):\n",
    "        turt.right(90)\n",
    "        turt.forward(2*corner)\n",
    "    turt.penup()\n",
    "\n",
    "def goToCoord(turt,x,y):\n",
    "    x_value=-maxCorner+x*boxSize+boxSize/2\n",
    "    y_value=maxCorner-y*boxSize-boxSize/2\n",
    "    turt.goto(x_value,y_value)\n",
    "    return x_value,y_value\n",
    "\n",
    "# map related\n",
    "def putObsticles(obsticles,turt,grid,maxCorner,boxSize):\n",
    "    for x,y in obsticles:\n",
    "        grid[x][y]='obs'\n",
    "        goToCoord(turt,x,y)\n",
    "        drawObsticle(turt,maxCorner, boxSize)\n",
    "\n",
    "def drawObsticle(turt,maxCorner,boxSize):\n",
    "    turt.pendown()\n",
    "    turt.write('obsitcle')\n",
    "    turt.penup()\n",
    "    \n",
    "\n",
    "def putGoal(finalPos,turt,grid,maxCorner,boxSize):\n",
    "    x,y=finalPos\n",
    "    grid[x][y]='goal'\n",
    "    goToCoord(turt,x,y)\n",
    "    drawGoal(turt,maxCorner,boxSize)\n",
    "\n",
    "def drawGoal(turt, maxCorner, boxSize):\n",
    "    turt.pendown()\n",
    "    turt.write('goal')\n",
    "    turt.penup()\n",
    "    \n",
    "def goToStart(turt,grid):\n",
    "    \n",
    "    grid[startPos[0]][startPos[1]]='T'\n",
    "    goToCoord(turt,startPos[0],startPos[1])\n",
    "    "
   ]
  },
  {
   "cell_type": "markdown",
   "metadata": {},
   "source": [
    "Aisiri's part"
   ]
  },
  {
   "cell_type": "code",
   "execution_count": null,
   "metadata": {},
   "outputs": [],
   "source": [
    "def moveFunction(turt,x_turtle,y_turtle,grid,boxSize):\n",
    "    pass\n",
    "    collisionCheck(turt,grid,x_turtle,y_turtle)"
   ]
  },
  {
   "cell_type": "markdown",
   "metadata": {},
   "source": [
    "Hannah's part"
   ]
  },
  {
   "cell_type": "code",
   "execution_count": 1,
   "metadata": {},
   "outputs": [],
   "source": [
    "def collisionCheck(turt,x_turtle,y_turtle,grid):\n",
    "    checkForObsticle(turt,x_turtle,y_turtle,obsticles)\n",
    "    checkForOutOfBound(turt,x_turtle,y_turtle,gridSize)\n",
    "    checkForGoal(turt,x_turtle,y_turtle,grid)\n",
    "\n",
    "    # if there is nothing in the next space, use updateGrid()\n",
    "\n",
    "def checkForObsticle(turt,x_turtle,y_turtle,obsticles):\n",
    "    pass\n",
    "def checkForOutOfBound(turt,x_turtle,y_turtle,gridSize):\n",
    "    pass\n",
    "def checkForGoal(turt,x_turtle,y_turtle,finalPos):\n",
    "    pass\n",
    "    # if true, use scoreboard()\n",
    "\n",
    "\n",
    "# -------------------------------------------------------------\n",
    "def scoreboard():\n",
    "    pass\n",
    "    endOfScreenMessage()\n",
    "    "
   ]
  },
  {
   "cell_type": "markdown",
   "metadata": {},
   "source": [
    "Aqif's part"
   ]
  },
  {
   "cell_type": "code",
   "execution_count": null,
   "metadata": {},
   "outputs": [],
   "source": [
    "def startingUi():\n",
    "    pass\n",
    "\n",
    "def updateGrid():\n",
    "    pass\n",
    "    moveFunction(Michelangelo,x_turtle,y_turtle,grid,boxSize)\n",
    "\n",
    "def endOfScreenMessage():\n",
    "    pass"
   ]
  },
  {
   "cell_type": "code",
   "execution_count": 5,
   "metadata": {},
   "outputs": [],
   "source": [
    "def startingMessages():\n",
    "    print('Welcome to')\n",
    "    print('~~~~MAZE~~~~')\n",
    "    print('ensure you can see prints and turtle at the same time')\n",
    "\n",
    "def loadMap(turt,grid,maxCorner,boxSize):\n",
    "    \n",
    "    # fakeFinal=10,3\n",
    "    # \n",
    "\n",
    "    turt.reset()\n",
    "    turt.hideturtle()\n",
    "    turt.speed(0)\n",
    "    turt.penup()\n",
    "    \n",
    "    drawGrid(turt,maxCorner)\n",
    "    putObsticles(obsticles,turt,grid,maxCorner,boxSize)\n",
    "    putGoal(finalPos,turt,grid,maxCorner,boxSize)\n",
    "    goToStart(Michelangelo,grid)\n",
    "    \n",
    "    turt.speed(1)\n",
    "    turt.showturtle()\n",
    "\n",
    "\n",
    "def initGame():\n",
    "    startingMessages()\n",
    "    loadMap(Michelangelo,grid,maxCorner,boxSize)\n",
    "    # think about removing boxSize\n",
    "    moveFunction()\n",
    "    \n",
    "\n"
   ]
  },
  {
   "cell_type": "code",
   "execution_count": 6,
   "metadata": {},
   "outputs": [
    {
     "name": "stdout",
     "output_type": "stream",
     "text": [
      "Welcome to\n",
      "~~~~ADDITION MAZE~~~~\n",
      "ensure you can see prints and turtle at the same time\n"
     ]
    },
    {
     "ename": "NameError",
     "evalue": "name 'moveFunction' is not defined",
     "output_type": "error",
     "traceback": [
      "\u001b[1;31m---------------------------------------------------------------------------\u001b[0m",
      "\u001b[1;31mNameError\u001b[0m                                 Traceback (most recent call last)",
      "\u001b[1;32mC:\\Users\\HILLMA~1\\AppData\\Local\\Temp/ipykernel_2928/3302955194.py\u001b[0m in \u001b[0;36m<module>\u001b[1;34m\u001b[0m\n\u001b[1;32m----> 1\u001b[1;33m \u001b[0minitGame\u001b[0m\u001b[1;33m(\u001b[0m\u001b[1;33m)\u001b[0m\u001b[1;33m\u001b[0m\u001b[1;33m\u001b[0m\u001b[0m\n\u001b[0m",
      "\u001b[1;32mC:\\Users\\HILLMA~1\\AppData\\Local\\Temp/ipykernel_2928/4155751299.py\u001b[0m in \u001b[0;36minitGame\u001b[1;34m()\u001b[0m\n\u001b[0;32m     26\u001b[0m     \u001b[0mstartingMessages\u001b[0m\u001b[1;33m(\u001b[0m\u001b[1;33m)\u001b[0m\u001b[1;33m\u001b[0m\u001b[1;33m\u001b[0m\u001b[0m\n\u001b[0;32m     27\u001b[0m     \u001b[0mloadMap\u001b[0m\u001b[1;33m(\u001b[0m\u001b[0mMichelangelo\u001b[0m\u001b[1;33m,\u001b[0m\u001b[0mgrid\u001b[0m\u001b[1;33m,\u001b[0m\u001b[0mmaxCorner\u001b[0m\u001b[1;33m,\u001b[0m\u001b[0mboxSize\u001b[0m\u001b[1;33m)\u001b[0m\u001b[1;33m\u001b[0m\u001b[1;33m\u001b[0m\u001b[0m\n\u001b[1;32m---> 28\u001b[1;33m     \u001b[0mmoveFunction\u001b[0m\u001b[1;33m(\u001b[0m\u001b[1;33m)\u001b[0m\u001b[1;33m\u001b[0m\u001b[1;33m\u001b[0m\u001b[0m\n\u001b[0m\u001b[0;32m     29\u001b[0m \u001b[1;33m\u001b[0m\u001b[0m\n\u001b[0;32m     30\u001b[0m \u001b[1;33m\u001b[0m\u001b[0m\n",
      "\u001b[1;31mNameError\u001b[0m: name 'moveFunction' is not defined"
     ]
    }
   ],
   "source": [
    "initGame()"
   ]
  },
  {
   "cell_type": "code",
   "execution_count": null,
   "metadata": {},
   "outputs": [],
   "source": [
    "printGrid(grid)"
   ]
  }
 ],
 "metadata": {
  "interpreter": {
   "hash": "63fd5069d213b44bf678585dea6b12cceca9941eaf7f819626cde1f2670de90d"
  },
  "kernelspec": {
   "display_name": "Python 3.9.6 64-bit",
   "language": "python",
   "name": "python3"
  },
  "language_info": {
   "codemirror_mode": {
    "name": "ipython",
    "version": 3
   },
   "file_extension": ".py",
   "mimetype": "text/x-python",
   "name": "python",
   "nbconvert_exporter": "python",
   "pygments_lexer": "ipython3",
   "version": "3.9.6"
  },
  "orig_nbformat": 4
 },
 "nbformat": 4,
 "nbformat_minor": 2
}
